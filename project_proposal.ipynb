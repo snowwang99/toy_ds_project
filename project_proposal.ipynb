{
 "cells": [
  {
   "cell_type": "markdown",
   "metadata": {},
   "source": [
    "# The User Knowledge \n"
   ]
  },
  {
   "cell_type": "markdown",
   "metadata": {},
   "source": [
    "### Group 32 Members:Xue Wang, Selina Wang, Renee Li\n"
   ]
  },
  {
   "cell_type": "markdown",
   "metadata": {},
   "source": [
    "## Introduction\n",
    "This real dataset is about the students' knowledge status about the subject of Electrical DC Machines. In this dataset it has used the five different attributes STG(the degree of study time for goal object materails),SCG (the degree of repetition number of user for goal object materails),STR (the degree of study time of user for related objects with goal object),LPR (the exam performance of user for related objects with goal object) ,PEG (the exam performance of user for goal objects),to predict the target value UNS(the knowledge level of user)."
   ]
  },
  {
   "cell_type": "code",
   "execution_count": null,
   "metadata": {},
   "outputs": [],
   "source": []
  },
  {
   "cell_type": "code",
   "execution_count": null,
   "metadata": {},
   "outputs": [],
   "source": []
  }
 ],
 "metadata": {
  "kernelspec": {
   "display_name": "R",
   "language": "R",
   "name": "ir"
  },
  "language_info": {
   "codemirror_mode": "r",
   "file_extension": ".r",
   "mimetype": "text/x-r-source",
   "name": "R",
   "pygments_lexer": "r",
   "version": "4.0.0"
  }
 },
 "nbformat": 4,
 "nbformat_minor": 4
}
